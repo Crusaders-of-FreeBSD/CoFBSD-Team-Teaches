{
 "cells": [
  {
   "cell_type": "markdown",
   "metadata": {},
   "source": [
    "# Sections 2.1 & 2.2: Objects"
   ]
  },
  {
   "cell_type": "markdown",
   "metadata": {},
   "source": [
    "## What are objects?\n",
    "\n",
    "Brief note: The text here is useful for following along and reviewing after the lesson. However, for the best experience, I'd recommend you simply pay attention to the presentation and run the code as you go.\n",
    "\n",
    "Let's say we have a book. This book has several properties, such as a title, author, and publisher. We can represent this with a few variables in our code."
   ]
  },
  {
   "cell_type": "code",
   "execution_count": null,
   "metadata": {},
   "outputs": [
    {
     "ename": "",
     "evalue": "",
     "output_type": "error",
     "traceback": [
      "\u001b[1;31mFailed to start the Kernel 'java (IJava/j!)'. \n",
      "\u001b[1;31mView Jupyter <a href='command:jupyter.viewOutput'>log</a> for further details. spawn EINVAL"
     ]
    }
   ],
   "source": [
    "class Main {\n",
    "    public static void main(String[] args) {\n",
    "        String title = \"The Guide to Failure\";\n",
    "        String author = \"Aadit Mathur\";\n",
    "        String publisher = \"The Crusaders of FreeBSD\";\n",
    "        String content = \"...\";\n",
    "\n",
    "        System.out.println(\"The title of the book is \" + title);\n",
    "        System.out.println(\"The author of the book is \" + author);\n",
    "        System.out.println(\"The publisher of the book is \" + publisher);\n",
    "    }\n",
    "}"
   ]
  },
  {
   "cell_type": "markdown",
   "metadata": {},
   "source": [
    "That's all well and dandy, until we want to add another book."
   ]
  },
  {
   "cell_type": "code",
   "execution_count": null,
   "metadata": {},
   "outputs": [
    {
     "ename": "",
     "evalue": "",
     "output_type": "error",
     "traceback": [
      "\u001b[1;31mFailed to start the Kernel 'java (IJava/j!)'. \n",
      "\u001b[1;31mView Jupyter <a href='command:jupyter.viewOutput'>log</a> for further details. spawn EINVAL"
     ]
    }
   ],
   "source": [
    "class Main {\n",
    "    public static void main(String[] args) {\n",
    "        String book1_title = \"The Guide to Failure\";\n",
    "        String book1_author = \"Aadit Mathur\";\n",
    "        String book1_publisher = \"The Crusaders of FreeBSD\";\n",
    "        String book1_content = \"...\"; // placeholder\n",
    "\n",
    "        System.out.println(\"The title of the book is \" + book1_title);\n",
    "        System.out.println(\"The author of \" + book1_title + \" is \" + book1_author);\n",
    "        System.out.println(\"The publisher of \" + book1_title + \" is \" + book1_publisher);\n",
    "\n",
    "        String book2_title = \"The Tragedy of Mr. Mortensen, Teacher of A101\";\n",
    "        String book2_author = \"Shuban Pal\";\n",
    "        String book2_publisher = \"The Crusaders of FreeBSD\";\n",
    "        String book2_content = \"...\";\n",
    "\n",
    "        System.out.println(\"The title of the book is \" + book2_title);\n",
    "        System.out.println(\"The author of \" + book2_title + \" is \" + book2_author);\n",
    "        System.out.println(\"The publisher of \" + book2_title + \" is \" + book2_publisher);\n",
    "    }\n",
    "}"
   ]
  },
  {
   "cell_type": "markdown",
   "metadata": {},
   "source": [
    "Within a second, our simple program has turned into a mess. Also, although we named our variables in a wway that allows us to see that theyre related, it would be nice if we could group these attributes together.\n",
    "\n",
    "### Introducing... classes!\n",
    "Classes are a way for us to logically group these attributes and behaviors together."
   ]
  },
  {
   "cell_type": "code",
   "execution_count": null,
   "metadata": {},
   "outputs": [
    {
     "ename": "",
     "evalue": "",
     "output_type": "error",
     "traceback": [
      "\u001b[1;31mFailed to start the Kernel 'java (IJava/j!)'. \n",
      "\u001b[1;31mView Jupyter <a href='command:jupyter.viewOutput'>log</a> for further details. spawn EINVAL"
     ]
    }
   ],
   "source": [
    "class Book {\n",
    "    public String title;\n",
    "    public String author;\n",
    "    public String publisher;\n",
    "    public String content;\n",
    "    public int pages;\n",
    "\n",
    "    public Book(String title, String author, String publisher, String content, int pages) {\n",
    "        this.title = title;\n",
    "        this.author = author;\n",
    "        this.publisher = publisher;\n",
    "        this.content = content;\n",
    "        this.pages = pages;\n",
    "    }\n",
    "\n",
    "    public Book(String title, String author, String publisher, String content) {\n",
    "        this.title = title;\n",
    "        this.author = author;\n",
    "        this.publisher = publisher;\n",
    "        this.content = content;\n",
    "        this.pages = 0;\n",
    "    }\n",
    "}\n",
    "\n",
    "class Main {\n",
    "    public static void main(String[] args) {\n",
    "        Book book1 = new Book(\"The Guide to Failure\", \"Aadit Mathur\", \"Crusaders of FreeBSD\", \"...\", 50);\n",
    "        \n",
    "        System.out.println(\"The title of the book is \" + book1.title);\n",
    "        System.out.println(\"The author of \" + book1.title + \" is \" + book1.author);\n",
    "        System.out.println(\"The publisher of \" + book1.title + \" is \" + book1.publisher);\n",
    "        \n",
    "        Book book2 = new Book(\n",
    "            \"The Tragedy of Mr. Mortensen, Teacher of A101\",\n",
    "            \"Shuban Pal\",\n",
    "            \"Crusaders of FreeBSD\",\n",
    "            \"...\"\n",
    "        );\n",
    "\n",
    "        System.out.println(\"The title of the book is \" + book2.title);\n",
    "        System.out.println(\"The author of \" + book2.title + \" is \" + book2.author);\n",
    "        System.out.println(\"The publisher of \" + book2.title + \" is \" + book2.publisher);\n",
    "    }\n",
    "}"
   ]
  },
  {
   "cell_type": "markdown",
   "metadata": {},
   "source": [
    "There are a few things to note here:\n",
    "- **Classes as Blueprints**: The class, Book, acts as a blueprint for creating objects, such as our book, \"The Guide to Failure\"\n",
    "- **Objects**: These are different `Book`s made using our \"blueprint\"\n",
    "  - Each of these books (i.e. the things made using our class) are usually called \"instances\" of the class\n",
    "- **Types**: The `Book` class is a type that can be used like something such as a `String`\n",
    "- **The `new` Keyword**: This allows us to create an object of type `Book`\n",
    "- **Constructors**: When we make a `new Book()`, the arguments passed in are matched to the correct constructor, a special function which creates a new instance\n",
    "- **Class-wide variables**: These variables can be accessed with the dot operator\n",
    "- **Dot operator**: Allows us to access class variables\n",
    "- **The `this` Keyword**: Allows us to access class variables from inside the class"
   ]
  },
  {
   "cell_type": "markdown",
   "metadata": {},
   "source": []
  }
 ],
 "metadata": {
  "kernelspec": {
   "display_name": "java (IJava/j!)",
   "language": "java",
   "name": "jbang-ijava"
  },
  "language_info": {
   "name": "java"
  }
 },
 "nbformat": 4,
 "nbformat_minor": 2
}
