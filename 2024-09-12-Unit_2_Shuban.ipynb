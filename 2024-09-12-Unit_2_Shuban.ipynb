{
 "cells": [
  {
   "cell_type": "markdown",
   "metadata": {},
   "source": [
    "## Section 2.4: Calling a Void Method with Parameters (Shuban)\n",
    "\n",
    "### What is a Parameter?\n",
    "\n",
    "A parameter in a method is a set of variables or values the method requires to perform a certain operation or extends a certain piece of functionality off of an object. \n",
    "\n",
    "### Methods in Python\n",
    "\n"
   ]
  },
  {
   "cell_type": "code",
   "execution_count": null,
   "metadata": {},
   "outputs": [],
   "source": []
  }
 ],
 "metadata": {
  "kernelspec": {
   "display_name": "Java",
   "language": "java",
   "name": "java"
  },
  "language_info": {
   "name": "java"
  }
 },
 "nbformat": 4,
 "nbformat_minor": 2
}
