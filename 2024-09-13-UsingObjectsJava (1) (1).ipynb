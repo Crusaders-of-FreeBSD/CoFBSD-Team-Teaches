{
 "cells": [
  {
   "cell_type": "markdown",
   "metadata": {
    "vscode": {
     "languageId": "plaintext"
    }
   },
   "source": [
    "## String Objects - Concatenation, Literals, and More (Eric)\n",
    "\n",
    "#### Creating Strings:"
   ]
  },
  {
   "cell_type": "code",
   "execution_count": 43,
   "metadata": {
    "vscode": {
     "languageId": "java"
    }
   },
   "outputs": [
    {
     "name": "stdout",
     "output_type": "stream",
     "text": [
      "Skibidi"
     ]
    }
   ],
   "source": [
    "public class stringobjects\n",
    "{\n",
    "    public static void main(String[] args)\n",
    "    {\n",
    "        String name1 = \"Skibidi\";\n",
    "        String name2 = new String(\"Sigma\");\n",
    "        String name3 = new String(name1);\n",
    "\n",
    "        System.out.println(name1);\n",
    "        System.out.println(name2);\n",
    "        System.out.println(name3);\n",
    "    }\n",
    "}\n",
    "\n",
    "stringobjects.main(null);"
   ]
  },
  {
   "cell_type": "markdown",
   "metadata": {},
   "source": [
    "---\n",
    "\n",
    "### 📝 Three Ways to Create a String: Let's Break it Down!\n",
    "\n",
    "---\n",
    "\n",
    "#### **First Option:**\n",
    "\n",
    "<iframe\n",
    "  src=\"https://carbon.now.sh/embed?bg=rgba%28171%2C+184%2C+195%2C+1%29&t=seti&wt=none&l=text%2Fx-java&width=680&ds=true&dsyoff=20px&dsblur=68px&wc=true&wa=true&pv=0px&ph=0px&ln=false&fl=1&fm=Hack&fs=14px&lh=133%25&si=false&es=2x&wm=false&code=String%2520name1%2520%253D%2520%2522Skibidi%2522%253B\"\n",
    "  style=\"width: 235px; height: 84px; border:0; transform: scale(1); overflow:hidden;\"\n",
    "  sandbox=\"allow-scripts allow-same-origin\">\n",
    "</iframe>\n",
    "\n",
    "This method of creating a string consists of the following three parts: \n",
    "\n",
    "<span style=\"color:orange;\">Class Name:</span> Defines the type of variable (String, Integer, Array, etc.)\n",
    "\n",
    "<span style=\"color:orange;\">Variable Name:</span> The name assigned to the variable. This is how the variable will be referenced in the rest of the program. \n",
    "\n",
    "<span style=\"color:orange;\">String Value:</span> The actual value you'd like to assign to the variable\n",
    "\n",
    "---"
   ]
  },
  {
   "cell_type": "markdown",
   "metadata": {},
   "source": [
    "#### **Second Option:**\n",
    "\n",
    "<iframe\n",
    "  src=\"https://carbon.now.sh/embed?bg=rgba%28171%2C+184%2C+195%2C+1%29&t=seti&wt=none&l=text%2Fx-java&width=680&ds=true&dsyoff=20px&dsblur=68px&wc=true&wa=true&pv=0px&ph=0px&ln=false&fl=1&fm=Hack&fs=14px&lh=133%25&si=false&es=2x&wm=false&code=String%2520name2%2520%253D%2520new%2520String%28%2522Sigma%2522%29%253B\"\n",
    "  style=\"width: 319px; height: 79px; border:0; transform: scale(1); overflow:hidden;\"\n",
    "  sandbox=\"allow-scripts allow-same-origin\">\n",
    "</iframe>\n",
    "\n",
    "This method is similar to option one but consists of a few extra components (indicated in pink coloring below):\n",
    "\n",
    "<span style=\"color:orange;\">Class:</span> Again, defines the type of the variable (String, Integers, Arrays, etc.)\n",
    "\n",
    "<span style=\"color:orange;\"> Variable Name:</span> How the variable will be referenced in the rest of the program\n",
    "\n",
    "<span style=\"color:pink;\">new: </span> A Java keyword which is used to explicitly instantiate a new object.\n",
    "\n",
    "<span style=\"color:pink;\">Class Name (Part 2):</span> The 'new' key word must be followed with the class name of the object being created (in this case, String)\n",
    "\n",
    "<span style=\"color:orange;\">String Value:</span> The actual value you'd like to assign to this variable\n"
   ]
  },
  {
   "cell_type": "markdown",
   "metadata": {},
   "source": [
    "---\n",
    "\n",
    "#### **Third Option:**\n",
    "\n",
    "<iframe\n",
    "  src=\"https://carbon.now.sh/embed?bg=rgba%28171%2C+184%2C+195%2C+1%29&t=seti&wt=none&l=text%2Fx-java&width=680&ds=true&dsyoff=20px&dsblur=68px&wc=true&wa=true&pv=0px&ph=0px&ln=false&fl=1&fm=Hack&fs=14px&lh=133%25&si=false&es=2x&wm=false&code=String%2520string1%2520%253D%2520%2522YIPEE%2522%250AString%2520name2%2520%253D%2520new%2520String%28string1%29%253B\"\n",
    "  style=\"width: 318px; height: 96px; border:0; transform: scale(1); overflow:hidden;\"\n",
    "  sandbox=\"allow-scripts allow-same-origin\">\n",
    "</iframe>\n",
    "\n",
    "Finally, a string can be created using the value of another, existing string object. The components needed for this declaration are as follows:\n",
    "\n",
    "<span style=\"color:orange;\">Class Name:</span> Again, type of variable will it be? (String, Integers, Arrays, etc.)\n",
    "\n",
    "<span style=\"color:orange;\">Variable Name:</span> The name of the variable\n",
    "\n",
    "<span style=\"color:orange;\">Java Keyword 'new':</span> The new keyword in Java is used to explicitly create a new object.\n",
    "\n",
    "<span style=\"color:orange;\">Class Name (Part 2):</span> As indicated before, the new keyword has to be followed with the class name of the object being created.\n",
    "\n",
    "<span style=\"color:pink;\">Variable Name (Part 2)</span> The name of the variable whose value you want the new variable to take on. \n"
   ]
  },
  {
   "cell_type": "markdown",
   "metadata": {},
   "source": [
    "**Importantly**, regardless of which creation method you choose, String objects are immutable. This means that every time you attempt to change the value of some string variable, under the hood, a *new* string object is created with the updated value, and your variable name is used to reference this new object."
   ]
  },
  {
   "cell_type": "markdown",
   "metadata": {},
   "source": [
    "### 📝 What are Concatentations?\n",
    "\n",
    "Concatentations are the joining of strings using operators such as \"+=\" and \"+\". \n",
    "\n",
    "There are two primary ways to combine strings. Assume `a`, `b`, and `c` are previously created string variables. \n",
    "\n",
    "- `a += b` : Appends the string value stored in `b` to the string value stored in `a`. In the processs, `a` is redefined to equal this newly appended string. \n",
    "- `c = a + b` : Joins the string values of `a` and `b` together, but doesn't redefine either `a` or `b`. Instead, the resultant value is assigned to `c`. "
   ]
  },
  {
   "cell_type": "code",
   "execution_count": 45,
   "metadata": {
    "vscode": {
     "languageId": "java"
    }
   },
   "outputs": [
    {
     "name": "stdout",
     "output_type": "stream",
     "text": [
      "Skibidi2\n",
      "Skibidi1\n"
     ]
    }
   ],
   "source": [
    "public class concatentations\n",
    "{\n",
    "    public static void main(String[] args)\n",
    "    {\n",
    "        String name1 = \"Skibidi\";\n",
    "        String name2 = new String(\"Sigma\");\n",
    "        String name3 = new String(name1);\n",
    "\n",
    "        int number1 = 1;\n",
    "        int number2 = 2;\n",
    "        String combine = name1 + \"\" + number1;\n",
    "        name1 += number2; \n",
    "\n",
    "        System.out.println(name1); \n",
    "        System.out.println(combine);\n",
    "    }\n",
    "}\n",
    "\n",
    "concatentations.main(null);"
   ]
  },
  {
   "cell_type": "markdown",
   "metadata": {},
   "source": [
    "Let's do an exercise for practice! What will the following code segment print?"
   ]
  },
  {
   "cell_type": "code",
   "execution_count": null,
   "metadata": {
    "vscode": {
     "languageId": "java"
    }
   },
   "outputs": [],
   "source": [
    "public class concatentations\n",
    "{\n",
    "    public static void main(String[] args)\n",
    "    {\n",
    "        String name1 = \"Skibidi\";\n",
    "        String name2 = new String(\"Sigma\");\n",
    "        String name3 = new String(name1);\n",
    "\n",
    "        name1 += \"!!\"\n",
    "        String mystery = name1 + name2 + name3\n",
    "\n",
    "        System.out.println(mystery);\n",
    "    }\n",
    "}\n",
    "\n",
    "// Uncomment the following method call to run the code and check your answer!\n",
    "// concatentations.main(null);"
   ]
  },
  {
   "cell_type": "markdown",
   "metadata": {},
   "source": [
    "### 📝 Backwards and Forwards Slashes\n",
    "\n",
    "In Java, there are a few characters with pre-assigned purposes. Backwards and forwards slashes are such characters, and they can be easy to mix up, so it's important to pay close attention to them!\n",
    "\n",
    "`\\`: A backward slash is used to start escape sequences. In other words, it can allow you to add special characters to your string as well as specify certain 'actions.' We'll see more on this later, in the form of a few examples.  \n",
    "`/`: A forward slash is traditionally used as a division operator. Two forward slashes indicate the beginning of a comment. \n",
    "\n",
    "\n",
    "#### Backslashes\n",
    "\n",
    "`\\\"` = Indicates that the double quote character isn't delimiting a new string, but is rather *part* of the string being written/printed\n",
    "\n",
    "`\\\\` = Similarly, indicates that the double quote character isn't delimiting a new string, but is rather *part* of the string being written/printed\n",
    "\n",
    "`\\n` = Prints on a new line\n",
    "\n"
   ]
  },
  {
   "cell_type": "code",
   "execution_count": 1,
   "metadata": {
    "vscode": {
     "languageId": "java"
    }
   },
   "outputs": [
    {
     "name": "stdout",
     "output_type": "stream",
     "text": [
      "This is a double quote: \"\n",
      "This is a backslash: \\\n",
      "This prints on a new line:\n",
      "Second line starts here\n",
      "Result of 10 / 2 is: 5\n"
     ]
    }
   ],
   "source": [
    "public class SlashDemo {\n",
    "    public static void main(String[] args) {\n",
    "        // Using backslashes for escape sequences:\n",
    "        System.out.println(\"This is a double quote: \\\"\");  // Prints a double quote\n",
    "        System.out.println(\"This is a backslash: \\\\\");     // Prints a backslash\n",
    "        System.out.println(\"This prints on a new line:\\nSecond line starts here\");\n",
    "\n",
    "        // Using forward slashes for division and comments:\n",
    "        int a = 10;\n",
    "        int b = 2;\n",
    "        int result = a / b; // Division operation\n",
    "\n",
    "        System.out.println(\"Result of 10 / 2 is: \" + result); // Prints the result of the division\n",
    "    }\n",
    "}\n",
    "\n",
    "SlashDemo.main(null)"
   ]
  },
  {
   "cell_type": "markdown",
   "metadata": {},
   "source": [
    "### 📝 String methods\n",
    "The following are some important methods that can be used on String objects. \n",
    "\n",
    "| Method                                  | Description                                                                                             |\n",
    "|-----------------------------------------|---------------------------------------------------------------------------------------------------------|\n",
    "| `String(String str)`                    | Constructs a new `String` object that represents the same sequence of characters as `str`                |\n",
    "| `int length()`                          | Returns the number of characters in a `String` object                                                    |\n",
    "| `String substring(int from, int to)`    | Returns the substring beginning at index `from` and ending at index `to - 1`                             |\n",
    "| `String substring(int from)`            | Returns `substring(from, length())`                                                                      |\n",
    "| `int indexOf(String str)`               | Returns the index of the first occurrence of `str`; returns `-1` if not found                            |\n",
    "| `boolean equals(String other)`          | Returns `true` if the calling string is equal to `other`; returns `false` otherwise                                    |\n",
    "| `int compareTo(String other)`           | Returns a value `< 0` if the calling string is less than `other` in alphanumeric order; returns zero if it is equal to `other`; returns a value `> 0` if it is greater than `other` |\n",
    "\n"
   ]
  },
  {
   "cell_type": "code",
   "execution_count": 18,
   "metadata": {
    "vscode": {
     "languageId": "java"
    }
   },
   "outputs": [
    {
     "name": "stdout",
     "output_type": "stream",
     "text": [
      "This should return the length of the word 'Skibidi'\n",
      "7\n"
     ]
    }
   ],
   "source": [
    "public class intDemo {\n",
    "    public static void main(String[] args) {\n",
    "        String wordOfDay = new String(\"Skibidi\");\n",
    "\n",
    "\n",
    "        System.out.println(\"This should return the length of the word 'Skibidi'\");\n",
    "        System.out.println(wordOfDay.length());\n",
    "\n",
    "    }\n",
    "}\n",
    "\n",
    "intDemo.main(null)"
   ]
  },
  {
   "cell_type": "code",
   "execution_count": 7,
   "metadata": {
    "vscode": {
     "languageId": "java"
    }
   },
   "outputs": [
    {
     "name": "stdout",
     "output_type": "stream",
     "text": [
      "\n",
      "This should return -1, since there is no n in the string\n",
      "-1\n",
      "\n",
      "This should display the index of d (5)\n",
      "5\n"
     ]
    }
   ],
   "source": [
    "public class indexOfDemo {\n",
    "    public static void main(String[] args) {\n",
    "        String wordOfDay = new String(\"Skibidi\");\n",
    "\n",
    "        System.out.println(\"\\nThis should return -1, since there is no n in the string\");\n",
    "        System.out.println(wordOfDay.lastIndexOf(\"n\"));\n",
    "\n",
    "        System.out.println(\"\\nThis should display the index of d (5)\");\n",
    "        System.out.println(wordOfDay.lastIndexOf(\"d\"));\n",
    "    }\n",
    "}\n",
    "\n",
    "indexOfDemo.main(null)"
   ]
  },
  {
   "cell_type": "code",
   "execution_count": 19,
   "metadata": {
    "vscode": {
     "languageId": "java"
    }
   },
   "outputs": [
    {
     "name": "stdout",
     "output_type": "stream",
     "text": [
      "\n",
      "This should display the letters between the 2nd and 6th\n",
      "ibid\n"
     ]
    }
   ],
   "source": [
    "public class substringOfDemo {\n",
    "    public static void main(String[] args) {\n",
    "        String word = new String(\"skibidi\");\n",
    "\n",
    "        System.out.println(\"\\nThis should display the letters between the 2nd and 6th\");\n",
    "        System.out.println(word.substring(2,6));\n",
    "    }\n",
    "}\n",
    "\n",
    "substringOfDemo.main(null)"
   ]
  },
  {
   "cell_type": "markdown",
   "metadata": {
    "vscode": {
     "languageId": "java"
    }
   },
   "source": [
    "Quick, let's do an exercise for practice! What will the following code segment return?"
   ]
  },
  {
   "cell_type": "code",
   "execution_count": null,
   "metadata": {
    "vscode": {
     "languageId": "java"
    }
   },
   "outputs": [],
   "source": [
    "public class substringOfDemo {\n",
    "    public static void main(String[] args) {\n",
    "        String word = new String(\"skibidi\");\n",
    "\n",
    "        System.out.println(\"\\nWhat is printed if we only pass one parameter into the substring method?\");\n",
    "        System.out.println(word.substring(2));\n",
    "    }\n",
    "}\n",
    "\n",
    "// Uncomment the following method call to run the code and check your answer!\n",
    "// substringOfDemo.main(null)"
   ]
  },
  {
   "cell_type": "code",
   "execution_count": 26,
   "metadata": {
    "vscode": {
     "languageId": "java"
    }
   },
   "outputs": [
    {
     "name": "stdout",
     "output_type": "stream",
     "text": [
      "\n",
      "This displays if word1 = word2, if false it returns -1, if true it returns 0\n",
      "-1\n",
      "\n",
      "This displays if word1 = word2, if false it returns -1, if true it returns 0\n",
      "0\n"
     ]
    }
   ],
   "source": [
    "public class compareToDemo {\n",
    "    public static void main(String[] args) {\n",
    "        String word = new String(\"skibidi\");\n",
    "        String word2 = new String(\"skibidi1\");\n",
    "        String word3 = new String(\"skibidi\");\n",
    "\n",
    "        System.out.println(\"\\nIf word is < word2, a negative value will be printed. If they are equal, 0 will be printed, and if word > word2, a positive value is printed\");\n",
    "        System.out.println(word.compareTo(word2));\n",
    "\n",
    "        System.out.println(\"\\nComparison between word and word3\");\n",
    "        System.out.println(word.compareTo(word3));\n",
    "    }\n",
    "}\n",
    "\n",
    "compareToDemo.main(null)"
   ]
  },
  {
   "cell_type": "code",
   "execution_count": 30,
   "metadata": {
    "vscode": {
     "languageId": "java"
    }
   },
   "outputs": [
    {
     "name": "stdout",
     "output_type": "stream",
     "text": [
      "\n",
      "This displays if word1 = word2, if false it returns false, if true it returns true\n",
      "false\n",
      "\n",
      "This displays if word1 = word3, if false it returns false, if true it returns true\n",
      "true\n"
     ]
    }
   ],
   "source": [
    "public class equalToDemo {\n",
    "    public static void main(String[] args) {\n",
    "        String word = new String(\"skibidi\");\n",
    "        String word2 = new String(\"skibidi1\");\n",
    "        String word3 = new String(\"skibidi\");\n",
    "\n",
    "        System.out.println(\"\\nThis displays if word1 = word2, if false it returns false, if true it returns true\");\n",
    "        System.out.println(word.equals((word2)));\n",
    "\n",
    "        System.out.println(\"\\nThis displays if word1 = word3, if false it returns false, if true it returns true\");\n",
    "        System.out.println(word.equals((word3)));\n",
    "    }\n",
    "}\n",
    "\n",
    "equalToDemo.main(null)"
   ]
  }
 ],
 "metadata": {
  "kernelspec": {
   "display_name": "Java",
   "language": "java",
   "name": "java"
  },
  "language_info": {
   "codemirror_mode": "java",
   "file_extension": ".jshell",
   "mimetype": "text/x-java-source",
   "name": "Java",
   "pygments_lexer": "java",
   "version": "11.0.24+8-post-Ubuntu-1ubuntu322.04"
  }
 },
 "nbformat": 4,
 "nbformat_minor": 2
}
